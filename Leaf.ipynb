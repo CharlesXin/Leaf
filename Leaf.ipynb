{
 "cells": [
  {
   "cell_type": "code",
   "execution_count": 13,
   "metadata": {
    "collapsed": false
   },
   "outputs": [],
   "source": [
    "from keras.preprocessing.image import img_to_array, load_img, array_to_img\n",
    "import os\n",
    "import numpy as np\n",
    "import matplotlib.pyplot as plt\n",
    "from IPython.display import display\n",
    "import pandas as pd\n",
    "from sklearn import preprocessing\n",
    "np.random.seed(2017)\n",
    "from sklearn.model_selection import train_test_split\n",
    "import tensorflow as tf"
   ]
  },
  {
   "cell_type": "code",
   "execution_count": 14,
   "metadata": {
    "collapsed": false
   },
   "outputs": [],
   "source": [
    "max_dim = 28\n",
    "X_imp = np.empty((1584, max_dim, max_dim, 1))\n",
    "\n",
    "for i in range(1,1584):\n",
    "  x_img = load_img(os.path.join(\"/Users/chuck/Desktop/Leaf Classification\", \"images\", str(i) + '.jpg'), grayscale=True)\n",
    "  max_size = 0 if x_img.size[0] >= x_img.size[1] else 1 \n",
    "  scale = max_dim/x_img.size[max_size]\n",
    "  x_img = x_img.resize((int(x_img.size[0] * scale), int(x_img.size[1] * scale)))\n",
    "  x_img = img_to_array(x_img)\n",
    "  \n",
    "  if x_img.shape[0] > x_img.shape[1]:\n",
    "    x_img = np.rot90(x_img)\n",
    "\n",
    "  length = x_img.shape[0]\n",
    "  width = x_img.shape[1]\n",
    "  h1 = int((max_dim - length) / 2)\n",
    "  h2 = h1 + length\n",
    "  w1 = int((max_dim - width) / 2)\n",
    "  w2 = w1 + width\n",
    "  X_imp[i-1, h1:h2, w1:w2, 0:1] = x_img\n",
    "\n",
    "X_imp = np.around(X_imp / 255.0)"
   ]
  },
  {
   "cell_type": "code",
   "execution_count": 17,
   "metadata": {
    "collapsed": false
   },
   "outputs": [
    {
     "data": {
      "image/png": "[encoded data removed]",
      "text/plain": [
       "<PIL.Image.Image image mode=L size=28x28 at 0x125481668>"
      ]
     },
     "metadata": {},
     "output_type": "display_data"
    },
    {
     "data": {
      "image/png": "[encoded data removed]",
      "text/plain": [
       "<PIL.Image.Image image mode=L size=28x28 at 0x125481E48>"
      ]
     },
     "metadata": {},
     "output_type": "display_data"
    },
    {
     "data": {
      "image/png": "[encoded data removed]",
      "text/plain": [
       "<PIL.Image.Image image mode=L size=28x28 at 0x125481320>"
      ]
     },
     "metadata": {},
     "output_type": "display_data"
    },
    {
     "data": {
      "image/png": "[encoded data removed]",
      "text/plain": [
       "<PIL.Image.Image image mode=L size=28x28 at 0x125481668>"
      ]
     },
     "metadata": {},
     "output_type": "display_data"
    },
    {
     "data": {
      "image/png": "[encoded data removed]",
      "text/plain": [
       "<PIL.Image.Image image mode=L size=28x28 at 0x125481FD0>"
      ]
     },
     "metadata": {},
     "output_type": "display_data"
    }
   ],
   "source": [
    "for i in range(0, 5):\n",
    "    show_imp = array_to_img(X_imp[i, ])\n",
    "    display(show_imp)"
   ]
  },
  {
   "cell_type": "code",
   "execution_count": 28,
   "metadata": {
    "collapsed": false
   },
   "outputs": [
    {
     "name": "stdout",
     "output_type": "stream",
     "text": [
      "Training Image Data (891, 28, 28, 1) (891, 99)\n",
      "Validated Image Data (99, 28, 28, 1) (99, 99)\n",
      "Test Image Data (594, 28, 28, 1)\n"
     ]
    }
   ],
   "source": [
    "train_feature_data = pd.read_csv(\"/Users/chuck/Desktop/Leaf Classification/train.csv\")\n",
    "test_feature_data = pd.read_csv(\"/Users/chuck/Desktop/Leaf Classification/test.csv\")\n",
    "\n",
    "train_image_data = X_imp[train_feature_data['id']-1, ]\n",
    "test_image_data = X_imp[test_feature_data['id']-1, ]\n",
    "\n",
    "train_labels = train_feature_data['species']\n",
    "le = preprocessing.LabelEncoder()\n",
    "train_labels = le.fit(train_labels).transform(train_labels) \n",
    "\n",
    "X_train, X_val, y_train, y_val = train_test_split(train_image_data, train_labels, test_size=.1, random_state=42, stratify = train_labels)\n",
    "y_train = (np.arange(99) == y_train[:,None]).astype(np.float32)\n",
    "y_val = (np.arange(99) == y_val[:,None]).astype(np.float32)\n",
    "\n",
    "X_train = X_train.astype(np.float32)\n",
    "X_val = X_val.astype(np.float32)\n",
    "test_image_data = test_image_data.astype(np.float32)\n",
    "\n",
    "print(\"Training Image Data\", X_train.shape, y_train.shape)\n",
    "print(\"Validated Image Data\", X_val.shape, y_val.shape)\n",
    "print(\"Test Image Data\", test_image_data.shape)"
   ]
  },
  {
   "cell_type": "code",
   "execution_count": 29,
   "metadata": {
    "collapsed": true
   },
   "outputs": [],
   "source": [
    "def accuracy(predictions, labels):\n",
    "    return (100.0 * np.sum(np.argmax(predictions, 1) == np.argmax(labels, 1))\n",
    "            / predictions.shape[0])\n",
    "\n",
    "def weight_variable(shape):\n",
    "    initial = tf.truncated_normal(shape, stddev=0.01)\n",
    "    return tf.Variable(initial)\n",
    "\n",
    "def bias_variable(shape):\n",
    "    initial = tf.constant(0.1, shape=shape)\n",
    "    return tf.Variable(initial)\n"
   ]
  },
  {
   "cell_type": "code",
   "execution_count": 30,
   "metadata": {
    "collapsed": false,
    "scrolled": true
   },
   "outputs": [],
   "source": [
    "image_size = 28\n",
    "num_labels = 99\n",
    "num_channels = 1 # grayscale\n",
    "batch_size = 32\n",
    "lamb_reg = 0.0005\n",
    "\n",
    "graph = tf.Graph()\n",
    "\n",
    "with graph.as_default():\n",
    "\n",
    "    # Input data.\n",
    "    tf_train_dataset = tf.placeholder(tf.float32, shape=(batch_size, image_size, image_size, num_channels))\n",
    "    tf_train_labels = tf.placeholder(tf.float32, shape=(batch_size, num_labels))\n",
    "    tf_valid_dataset = tf.constant(X_val)\n",
    "    tf_test_dataset = tf.constant(test_image_data)\n",
    "\n",
    "    # Variables.\n",
    "    layer1_weights = weight_variable([3, 3, 1, 64])\n",
    "    layer1_biases = bias_variable([64])\n",
    "    layer2_weights = weight_variable([3, 3, 64, 128])\n",
    "    layer2_biases = bias_variable([128])\n",
    "    layer3_weights = weight_variable([3, 3, 128, 256])\n",
    "    layer3_biases = bias_variable([256])\n",
    "    layer4_weights = weight_variable([4*4*256, 1024])\n",
    "    layer4_biases = bias_variable([1024])\n",
    "    layer5_weights = weight_variable([1024, 1024])\n",
    "    layer5_biases = bias_variable([1024])\n",
    "    layer6_weights = weight_variable([1024, num_labels])\n",
    "    layer6_biases = bias_variable([num_labels])\n",
    "\n",
    "    keep_prob = tf.placeholder(tf.float32)\n",
    "    # Model with dropout\n",
    "    def model(data, proba=keep_prob):\n",
    "        # Convolution\n",
    "        conv1 = tf.nn.conv2d(data, layer1_weights, [1, 1, 1, 1], padding='SAME') + layer1_biases\n",
    "        # Max pooling\n",
    "        pooled1 = tf.nn.max_pool(tf.nn.relu(conv1), ksize=[1, 3, 3, 1],\n",
    "                        strides=[1, 2, 2, 1], padding='SAME')\n",
    "        # Normalization\n",
    "        norm1 = tf.nn.lrn(pooled1, 4, bias=1.0, alpha=0.001 / 9.0, beta=0.75)\n",
    "        # Dropout\n",
    "        norm1 = tf.nn.dropout(norm1, proba)\n",
    "        \n",
    "        # Convolution\n",
    "        conv2 = tf.nn.conv2d(norm1, layer2_weights, [1, 1, 1, 1], padding='SAME') + layer2_biases\n",
    "        # Max pooling\n",
    "        pooled2 = tf.nn.max_pool(tf.nn.relu(conv2), ksize=[1, 3, 3, 1],\n",
    "                        strides=[1, 2, 2, 1], padding='SAME')\n",
    "        # Normalization\n",
    "        norm2 = tf.nn.lrn(pooled2, 4, bias=1.0, alpha=0.001 / 9.0, beta=0.75)\n",
    "        # Dropout\n",
    "        norm2 = tf.nn.dropout(norm2, proba)\n",
    "        \n",
    "        # Convolution\n",
    "        conv3 = tf.nn.conv2d(norm2, layer3_weights, [1, 1, 1, 1], padding='SAME') + layer3_biases\n",
    "        # Max pooling\n",
    "        pooled3 = tf.nn.max_pool(tf.nn.relu(conv3), ksize=[1, 3, 3, 1],\n",
    "                        strides=[1, 2, 2, 1], padding='SAME')\n",
    "        # Normalization\n",
    "        norm3 = tf.nn.lrn(pooled3, 4, bias=1.0, alpha=0.001 / 9.0, beta=0.75)\n",
    "        # Dropout\n",
    "        norm3 = tf.nn.dropout(norm3, proba)\n",
    "        \n",
    "        # Fully Connected Layer\n",
    "        shape = layer4_weights.get_shape().as_list()\n",
    "        reshape = tf.reshape(norm3, [-1, shape[0]])\n",
    "        full3 = tf.nn.relu(tf.matmul(reshape, layer4_weights) + layer4_biases)\n",
    "        full3 = tf.nn.relu(tf.matmul(full3, layer5_weights) + layer5_biases)\n",
    "\n",
    "        return tf.matmul(full3, layer6_weights) + layer6_biases\n",
    "  \n",
    "    # Training computation.\n",
    "    logits = model(tf_train_dataset, keep_prob)\n",
    "    loss = tf.reduce_mean(tf.nn.softmax_cross_entropy_with_logits(logits, tf_train_labels))\n",
    "    regularizers = (tf.nn.l2_loss(layer1_weights) + tf.nn.l2_loss(layer1_biases) + \\\n",
    "                    tf.nn.l2_loss(layer2_weights) + tf.nn.l2_loss(layer2_biases) + \\\n",
    "                    tf.nn.l2_loss(layer3_weights) + tf.nn.l2_loss(layer3_biases) + \\\n",
    "                    tf.nn.l2_loss(layer4_weights) + tf.nn.l2_loss(layer4_biases) + \\\n",
    "                    tf.nn.l2_loss(layer5_weights) + tf.nn.l2_loss(layer5_biases) + \\\n",
    "                    tf.nn.l2_loss(layer6_weights) + tf.nn.l2_loss(layer6_biases))\n",
    "\n",
    "    # Add the regularization term to the loss.\n",
    "    loss = tf.reduce_mean(loss + lamb_reg * regularizers)\n",
    "    # Optimizer.\n",
    "    optimizer = tf.train.AdamOptimizer(1e-4).minimize(loss)\n",
    "\n",
    "    # Predictions for the training, validation, and test data.\n",
    "    train_prediction = tf.nn.softmax(logits)\n",
    "    valid_prediction = tf.nn.softmax(model(tf_valid_dataset,1.0))\n",
    "    test_prediction = tf.nn.softmax(model(tf_test_dataset,1.0))"
   ]
  },
  {
   "cell_type": "code",
   "execution_count": 31,
   "metadata": {
    "collapsed": true
   },
   "outputs": [],
   "source": [
    "def run_session(num_epochs, name, k_prob=1.0):\n",
    "\n",
    "    with tf.Session(graph=graph) as session:\n",
    "        merged = tf.merge_all_summaries()  \n",
    "        writer = tf.train.SummaryWriter(\"/tmp/tensorflowlogs\", session.graph)\n",
    "        tf.initialize_all_variables().run()\n",
    "        print(\"Initialized\")\n",
    "        for epoch in range(num_epochs):\n",
    "            offset = (epoch * batch_size) % (y_train.shape[0] - batch_size)\n",
    "            batch_data = X_train[offset:(offset + batch_size), :]\n",
    "            batch_labels = y_train[offset:(offset + batch_size), :]\n",
    "            feed_dict = {tf_train_dataset : batch_data, tf_train_labels : batch_labels, keep_prob : k_prob}\n",
    "            _, l, predictions = session.run([optimizer, loss, train_prediction], feed_dict=feed_dict)\n",
    "            if (epoch % 500 == 0):\n",
    "                print(\"Minibatch loss at epoch {}: {}\".format(epoch, l))\n",
    "                print(\"Minibatch accuracy: {:.1f}\".format(accuracy(predictions, batch_labels)))\n",
    "                print(\"Validation accuracy: {:.1f}\".format(accuracy(valid_prediction.eval(), y_val)))\n",
    "        test_preds = test_prediction.eval().ravel()\n",
    "        "
   ]
  },
  {
   "cell_type": "code",
   "execution_count": 35,
   "metadata": {
    "collapsed": false
   },
   "outputs": [
    {
     "name": "stdout",
     "output_type": "stream",
     "text": [
      "Initialized\n",
      "Minibatch loss at epoch 0: 4.717401027679443\n",
      "Minibatch accuracy: 0.0\n",
      "Validation accuracy: 1.0\n"
     ]
    },
    {
     "ename": "NameError",
     "evalue": "name 'test_preds' is not defined",
     "output_type": "error",
     "traceback": [
      "\u001b[0;31m---------------------------------------------------------------------------\u001b[0m",
      "\u001b[0;31mNameError\u001b[0m                                 Traceback (most recent call last)",
      "\u001b[0;32m<ipython-input-35-bb95ad0cd868>\u001b[0m in \u001b[0;36m<module>\u001b[0;34m()\u001b[0m\n\u001b[0;32m----> 1\u001b[0;31m \u001b[0mrun_session\u001b[0m\u001b[0;34m(\u001b[0m\u001b[0;36m101\u001b[0m\u001b[0;34m,\u001b[0m \u001b[0;34m\"AlexNet\"\u001b[0m\u001b[0;34m,\u001b[0m \u001b[0;36m0.8\u001b[0m\u001b[0;34m)\u001b[0m\u001b[0;34m\u001b[0m\u001b[0m\n\u001b[0m",
      "\u001b[0;32m<ipython-input-31-2423d279bd40>\u001b[0m in \u001b[0;36mrun_session\u001b[0;34m(num_epochs, name, k_prob)\u001b[0m\n\u001b[1;32m     16\u001b[0m                 \u001b[0mprint\u001b[0m\u001b[0;34m(\u001b[0m\u001b[0;34m\"Minibatch accuracy: {:.1f}\"\u001b[0m\u001b[0;34m.\u001b[0m\u001b[0mformat\u001b[0m\u001b[0;34m(\u001b[0m\u001b[0maccuracy\u001b[0m\u001b[0;34m(\u001b[0m\u001b[0mpredictions\u001b[0m\u001b[0;34m,\u001b[0m \u001b[0mbatch_labels\u001b[0m\u001b[0;34m)\u001b[0m\u001b[0;34m)\u001b[0m\u001b[0;34m)\u001b[0m\u001b[0;34m\u001b[0m\u001b[0m\n\u001b[1;32m     17\u001b[0m                 \u001b[0mprint\u001b[0m\u001b[0;34m(\u001b[0m\u001b[0;34m\"Validation accuracy: {:.1f}\"\u001b[0m\u001b[0;34m.\u001b[0m\u001b[0mformat\u001b[0m\u001b[0;34m(\u001b[0m\u001b[0maccuracy\u001b[0m\u001b[0;34m(\u001b[0m\u001b[0mvalid_prediction\u001b[0m\u001b[0;34m.\u001b[0m\u001b[0meval\u001b[0m\u001b[0;34m(\u001b[0m\u001b[0;34m)\u001b[0m\u001b[0;34m,\u001b[0m \u001b[0my_val\u001b[0m\u001b[0;34m)\u001b[0m\u001b[0;34m)\u001b[0m\u001b[0;34m)\u001b[0m\u001b[0;34m\u001b[0m\u001b[0m\n\u001b[0;32m---> 18\u001b[0;31m         \u001b[0mtest_preds\u001b[0m\u001b[0;34m[\u001b[0m\u001b[0mname\u001b[0m\u001b[0;34m]\u001b[0m \u001b[0;34m=\u001b[0m \u001b[0mtest_prediction\u001b[0m\u001b[0;34m.\u001b[0m\u001b[0meval\u001b[0m\u001b[0;34m(\u001b[0m\u001b[0;34m)\u001b[0m\u001b[0;34m.\u001b[0m\u001b[0mravel\u001b[0m\u001b[0;34m(\u001b[0m\u001b[0;34m)\u001b[0m\u001b[0;34m\u001b[0m\u001b[0m\n\u001b[0m\u001b[1;32m     19\u001b[0m \u001b[0;34m\u001b[0m\u001b[0m\n",
      "\u001b[0;31mNameError\u001b[0m: name 'test_preds' is not defined"
     ]
    }
   ],
   "source": [
    "run_session(101, \"AlexNet\", 0.8)"
   ]
  },
  {
   "cell_type": "code",
   "execution_count": null,
   "metadata": {
    "collapsed": false
   },
   "outputs": [],
   "source": []
  },
  {
   "cell_type": "code",
   "execution_count": null,
   "metadata": {
    "collapsed": true
   },
   "outputs": [],
   "source": []
  }
 ],
 "metadata": {
  "anaconda-cloud": {},
  "kernelspec": {
   "display_name": "Python [default]",
   "language": "python",
   "name": "python3"
  },
  "language_info": {
   "codemirror_mode": {
    "name": "ipython",
    "version": 3
   },
   "file_extension": ".py",
   "mimetype": "text/x-python",
   "name": "python",
   "nbconvert_exporter": "python",
   "pygments_lexer": "ipython3",
   "version": "3.5.2"
  }
 },
 "nbformat": 4,
 "nbformat_minor": 1
}
