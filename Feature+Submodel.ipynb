{
 "cells": [
  {
   "cell_type": "code",
   "execution_count": 2,
   "metadata": {
    "collapsed": true
   },
   "outputs": [],
   "source": [
    "from keras.preprocessing.image import img_to_array, load_img, array_to_img\n",
    "import os\n",
    "import numpy as np\n",
    "import matplotlib.pyplot as plt\n",
    "from IPython.display import display\n",
    "import pandas as pd\n",
    "from sklearn import preprocessing\n",
    "from sklearn.model_selection import train_test_split\n",
    "import tensorflow as tf\n",
    "from sklearn.preprocessing import StandardScaler"
   ]
  },
  {
   "cell_type": "code",
   "execution_count": 17,
   "metadata": {
    "collapsed": true
   },
   "outputs": [],
   "source": [
    "def accuracy(predictions, labels):\n",
    "    return (100.0 * np.sum(np.argmax(predictions, 1) == np.argmax(labels, 1))\n",
    "            / predictions.shape[0])\n",
    "\n",
    "def weight_variable(shape):\n",
    "    initial = tf.truncated_normal(shape, stddev=0.01)\n",
    "    return tf.Variable(initial)\n",
    "\n",
    "def bias_variable(shape):\n",
    "    initial = tf.constant(0.1, shape=shape)\n",
    "    return tf.Variable(initial)\n",
    "\n",
    "\n",
    "def run_session(num_epochs, name, k_prob=1.0):\n",
    "\n",
    "    with tf.Session(graph=graph) as session:\n",
    "        merged = tf.merge_all_summaries()  \n",
    "        writer = tf.train.SummaryWriter(\"/tmp/tensorflowlogs\", session.graph)\n",
    "        tf.initialize_all_variables().run()\n",
    "        print(\"Initialized\")\n",
    "        for epoch in range(num_epochs):\n",
    "            offset = (epoch * batch_size) % (y_train.shape[0] - batch_size)\n",
    "            batch_data = X_train[offset:(offset + batch_size), :]\n",
    "            batch_labels = y_train[offset:(offset + batch_size), :]\n",
    "            feed_dict = {tf_train_dataset : batch_data, tf_train_labels : batch_labels, keep_prob : k_prob}\n",
    "            _, l, predictions, l_v = session.run([optimizer, loss, train_prediction, loss_v], feed_dict=feed_dict)\n",
    "            \n",
    "            if (epoch % 100 == 0):\n",
    "                print(\"Minibatch loss at epoch {}: {}\".format(epoch, l))\n",
    "                print(\"Validation loss at epoch {}: {}\".format(epoch, l_v))\n",
    "                print(\"Minibatch accuracy: {:.1f}\".format(accuracy(predictions, batch_labels)))\n",
    "                print(\"Validation accuracy: {:.1f}\".format(accuracy(valid_prediction.eval(), y_val)))\n",
    "        \n",
    "        test_prob = test_prediction.eval()\n",
    "        return test_prob\n",
    "    \n",
    "    \n",
    "\n",
    "split_by_half = lambda x,k : int(x/2**k)"
   ]
  },
  {
   "cell_type": "code",
   "execution_count": 35,
   "metadata": {
    "collapsed": false
   },
   "outputs": [
    {
     "name": "stdout",
     "output_type": "stream",
     "text": [
      "Training Data (27, 192) (27, 3)\n",
      "Validated Data (3, 192) (3, 3)\n",
      "Test Data (1, 192)\n"
     ]
    }
   ],
   "source": [
    "train_feature_data = pd.read_csv(\"train.csv\")\n",
    "test_feature_data = pd.read_csv(\"test.csv\")\n",
    "\n",
    "need_species = [\"Quercus_Brantii\", \"Quercus_Castaneifolia\", \"Quercus_Cerris\"] \n",
    "n_specials = len(need_species)\n",
    "train_feature_data = train_feature_data.loc[train_feature_data[\"species\"].isin(need_species), : ]\n",
    "test_feature_data = test_feature_data.loc[test_feature_data[\"id\"] == 887, :]\n",
    "\n",
    "ID = train_feature_data.pop(\"id\")\n",
    "\n",
    "train_labels = train_feature_data.pop('species')\n",
    "le = preprocessing.LabelEncoder()\n",
    "train_labels = le.fit(train_labels).transform(train_labels) \n",
    "\n",
    "# standardize the data by setting the mean to 0 and std to 1\n",
    "scaler = StandardScaler().fit(train_feature_data)\n",
    "train_feature_data = scaler.transform(train_feature_data)\n",
    "\n",
    "\n",
    "test_feature_id = test_feature_data.pop(\"id\")\n",
    "test_feature_data = scaler.transform(test_feature_data)\n",
    "test_feature_data = test_feature_data.astype(np.float32)\n",
    "\n",
    "X_train, X_val, y_train, y_val = train_test_split(train_feature_data, train_labels, test_size=.1, random_state=1, stratify = train_labels)\n",
    "y_train = (np.arange(n_specials) == y_train[:,None]).astype(np.float32)\n",
    "y_val = (np.arange(n_specials) == y_val[:,None]).astype(np.float32)\n",
    "\n",
    "X_train = X_train.astype(np.float32)\n",
    "X_val = X_val.astype(np.float32)\n",
    "\n",
    "print(\"Training Data\", X_train.shape, y_train.shape)\n",
    "print(\"Validated Data\", X_val.shape, y_val.shape)\n",
    "print(\"Test Data\", test_feature_data.shape)"
   ]
  },
  {
   "cell_type": "code",
   "execution_count": 36,
   "metadata": {
    "collapsed": false
   },
   "outputs": [],
   "source": [
    "batch_size = 10\n",
    "hidden_nodes = 100\n",
    "lamb_reg = 0.0\n",
    "\n",
    "graph = tf.Graph()\n",
    "with graph.as_default():\n",
    "\n",
    "    # Input data.\n",
    "    tf_train_dataset = tf.placeholder(tf.float32, shape=(batch_size, 192))\n",
    "    tf_train_labels = tf.placeholder(tf.float32, shape=(batch_size, n_specials))\n",
    "    tf_valid_dataset = tf.constant(X_val)\n",
    "    tf_valid_labels = tf.constant(y_val)\n",
    "    tf_test_dataset = tf.constant(test_feature_data)\n",
    "\n",
    "    # Variables.\n",
    "    layer1_weights = weight_variable([192, hidden_nodes])\n",
    "    layer1_biases = bias_variable([hidden_nodes])\n",
    "    layer4_weights = weight_variable([hidden_nodes, n_specials])\n",
    "    layer4_biases = bias_variable([n_specials])\n",
    "\n",
    "    keep_prob = tf.placeholder(\"float\")\n",
    "\n",
    "    # Model with dropout\n",
    "    def model(data, proba=keep_prob):\n",
    "        layer1 = tf.matmul(data, layer1_weights) + layer1_biases\n",
    "        hidden1 = tf.nn.dropout(tf.nn.relu(layer1), proba)  # dropout on hidden layer\n",
    "        return tf.matmul(hidden1, layer4_weights) + layer4_biases\n",
    "\n",
    "    # Training computation.\n",
    "    logits = model(tf_train_dataset, keep_prob)\n",
    "\n",
    "    loss = tf.reduce_mean(tf.nn.softmax_cross_entropy_with_logits(logits, tf_train_labels))\n",
    "\n",
    "    regularizers = (tf.nn.l2_loss(layer1_weights) + tf.nn.l2_loss(layer1_biases) + \\\n",
    "                    tf.nn.l2_loss(layer4_weights) + tf.nn.l2_loss(layer4_biases))\n",
    "\n",
    "    # Add the regularization term to the loss.\n",
    "    loss = tf.reduce_mean(loss + lamb_reg * regularizers)\n",
    "\n",
    "    # Optimizer.\n",
    "    optimizer = tf.train.RMSPropOptimizer(1e-4).minimize(loss)\n",
    "\n",
    "\n",
    "    # Predictions for the training, validation, and test data.\n",
    "    train_prediction = tf.nn.softmax(logits)\n",
    "    valid_prediction = tf.nn.softmax(model(tf_valid_dataset, 1.0))\n",
    "\n",
    "    loss_v = tf.reduce_mean(tf.nn.softmax_cross_entropy_with_logits(model(tf_valid_dataset,1.0), tf_valid_labels))\n",
    "\n",
    "    test_prediction = tf.nn.softmax(model(tf_test_dataset, 1.0))"
   ]
  },
  {
   "cell_type": "code",
   "execution_count": 37,
   "metadata": {
    "collapsed": false,
    "scrolled": true
   },
   "outputs": [
    {
     "name": "stdout",
     "output_type": "stream",
     "text": [
      "WARNING:tensorflow:From <ipython-input-17-1ed5cd9e1c0a>:17 in run_session.: merge_all_summaries (from tensorflow.python.ops.logging_ops) is deprecated and will be removed after 2016-11-30.\n",
      "Instructions for updating:\n",
      "Please switch to tf.summary.merge_all.\n",
      "WARNING:tensorflow:From <ipython-input-17-1ed5cd9e1c0a>:18 in run_session.: SummaryWriter.__init__ (from tensorflow.python.training.summary_io) is deprecated and will be removed after 2016-11-30.\n",
      "Instructions for updating:\n",
      "Please switch to tf.summary.FileWriter. The interface and behavior is the same; this is just a rename.\n",
      "WARNING:tensorflow:From <ipython-input-17-1ed5cd9e1c0a>:19 in run_session.: initialize_all_variables (from tensorflow.python.ops.variables) is deprecated and will be removed after 2017-03-02.\n",
      "Instructions for updating:\n",
      "Use `tf.global_variables_initializer` instead.\n",
      "Initialized\n",
      "Minibatch loss at epoch 0: 1.0940539836883545\n",
      "Validation loss at epoch 0: 1.100120186805725\n",
      "Minibatch accuracy: 40.0\n",
      "Validation accuracy: 0.0\n",
      "Minibatch loss at epoch 100: 1.0323878526687622\n",
      "Validation loss at epoch 100: 1.025712251663208\n",
      "Minibatch accuracy: 100.0\n",
      "Validation accuracy: 100.0\n",
      "Minibatch loss at epoch 200: 0.6471344232559204\n",
      "Validation loss at epoch 200: 0.6057382822036743\n",
      "Minibatch accuracy: 100.0\n",
      "Validation accuracy: 100.0\n",
      "Minibatch loss at epoch 300: 0.24607500433921814\n",
      "Validation loss at epoch 300: 0.2461690902709961\n",
      "Minibatch accuracy: 100.0\n",
      "Validation accuracy: 100.0\n",
      "Minibatch loss at epoch 400: 0.07835769653320312\n",
      "Validation loss at epoch 400: 0.06977048516273499\n",
      "Minibatch accuracy: 100.0\n",
      "Validation accuracy: 100.0\n",
      "Minibatch loss at epoch 500: 0.025502318516373634\n",
      "Validation loss at epoch 500: 0.01509852148592472\n",
      "Minibatch accuracy: 100.0\n",
      "Validation accuracy: 100.0\n",
      "Minibatch loss at epoch 600: 0.005807327106595039\n",
      "Validation loss at epoch 600: 0.0030038084369152784\n",
      "Minibatch accuracy: 100.0\n",
      "Validation accuracy: 100.0\n",
      "Minibatch loss at epoch 700: 0.0005464074201881886\n",
      "Validation loss at epoch 700: 0.000620989827439189\n",
      "Minibatch accuracy: 100.0\n",
      "Validation accuracy: 100.0\n",
      "Minibatch loss at epoch 800: 0.0010833373526111245\n",
      "Validation loss at epoch 800: 0.0001332229730905965\n",
      "Minibatch accuracy: 100.0\n",
      "Validation accuracy: 100.0\n",
      "Minibatch loss at epoch 900: 8.477077062707394e-05\n",
      "Validation loss at epoch 900: 3.5602883144747466e-05\n",
      "Minibatch accuracy: 100.0\n",
      "Validation accuracy: 100.0\n",
      "Minibatch loss at epoch 1000: 0.00014647051284555346\n",
      "Validation loss at epoch 1000: 1.0768482752609998e-05\n",
      "Minibatch accuracy: 100.0\n",
      "Validation accuracy: 100.0\n",
      "Minibatch loss at epoch 1100: 2.4495493562426418e-05\n",
      "Validation loss at epoch 1100: 3.4967965802934486e-06\n",
      "Minibatch accuracy: 100.0\n",
      "Validation accuracy: 100.0\n",
      "Minibatch loss at epoch 1200: 1.6474123185616918e-05\n",
      "Validation loss at epoch 1200: 1.3907736047258368e-06\n",
      "Minibatch accuracy: 100.0\n",
      "Validation accuracy: 100.0\n",
      "Minibatch loss at epoch 1300: 3.1351924008049536e-06\n",
      "Validation loss at epoch 1300: 6.357826123348786e-07\n",
      "Minibatch accuracy: 100.0\n",
      "Validation accuracy: 100.0\n",
      "Minibatch loss at epoch 1400: 9.274286639993079e-06\n",
      "Validation loss at epoch 1400: 3.178913630108582e-07\n",
      "Minibatch accuracy: 100.0\n",
      "Validation accuracy: 100.0\n",
      "Minibatch loss at epoch 1500: 3.96962013837765e-06\n",
      "Validation loss at epoch 1500: 1.5894570992713852e-07\n",
      "Minibatch accuracy: 100.0\n",
      "Validation accuracy: 100.0\n",
      "Minibatch loss at epoch 1600: 8.58304588291503e-07\n",
      "Validation loss at epoch 1600: 7.947285496356926e-08\n",
      "Minibatch accuracy: 100.0\n",
      "Validation accuracy: 100.0\n",
      "Minibatch loss at epoch 1700: 1.3958464478491805e-05\n",
      "Validation loss at epoch 1700: 3.973642748178463e-08\n",
      "Minibatch accuracy: 100.0\n",
      "Validation accuracy: 100.0\n",
      "Minibatch loss at epoch 1800: 1.490113959334849e-06\n",
      "Validation loss at epoch 1800: 3.973642748178463e-08\n",
      "Minibatch accuracy: 100.0\n",
      "Validation accuracy: 100.0\n",
      "Minibatch loss at epoch 1900: 1.45544026963762e-05\n",
      "Validation loss at epoch 1900: 0.0\n",
      "Minibatch accuracy: 100.0\n",
      "Validation accuracy: 100.0\n"
     ]
    }
   ],
   "source": [
    "test_prob = run_session(2000, \"Deep_NN\", 0.5)"
   ]
  },
  {
   "cell_type": "code",
   "execution_count": 38,
   "metadata": {
    "collapsed": false
   },
   "outputs": [
    {
     "name": "stdout",
     "output_type": "stream",
     "text": [
      "[[ 0.97682697  0.01609214  0.00708086]]\n",
      "['Quercus_Brantii']\n"
     ]
    }
   ],
   "source": [
    "print(test_prob)\n",
    "print(le.inverse_transform(np.argmax(test_prob, 1)))"
   ]
  },
  {
   "cell_type": "code",
   "execution_count": null,
   "metadata": {
    "collapsed": true
   },
   "outputs": [],
   "source": []
  }
 ],
 "metadata": {
  "kernelspec": {
   "display_name": "Python 3",
   "language": "python",
   "name": "python3"
  },
  "language_info": {
   "codemirror_mode": {
    "name": "ipython",
    "version": 3
   },
   "file_extension": ".py",
   "mimetype": "text/x-python",
   "name": "python",
   "nbconvert_exporter": "python",
   "pygments_lexer": "ipython3",
   "version": "3.5.2"
  },
  "widgets": {
   "state": {},
   "version": "1.1.2"
  }
 },
 "nbformat": 4,
 "nbformat_minor": 2
}
