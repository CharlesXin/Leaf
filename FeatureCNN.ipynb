{
 "cells": [
  {
   "cell_type": "code",
   "execution_count": 1,
   "metadata": {
    "collapsed": false
   },
   "outputs": [
    {
     "name": "stderr",
     "output_type": "stream",
     "text": [
      "Using TensorFlow backend.\n"
     ]
    }
   ],
   "source": [
    "from keras.preprocessing.image import img_to_array, load_img, array_to_img\n",
    "import os\n",
    "import numpy as np\n",
    "import matplotlib.pyplot as plt\n",
    "from IPython.display import display\n",
    "import pandas as pd\n",
    "from sklearn import preprocessing\n",
    "np.random.seed(2017)\n",
    "from sklearn.model_selection import train_test_split\n",
    "import tensorflow as tf\n",
    "from sklearn.preprocessing import StandardScaler"
   ]
  },
  {
   "cell_type": "code",
   "execution_count": 2,
   "metadata": {
    "collapsed": false
   },
   "outputs": [
    {
     "name": "stderr",
     "output_type": "stream",
     "text": [
      "/home/carnd/anaconda3/envs/carnd-term1/lib/python3.5/site-packages/sklearn/utils/validation.py:429: DataConversionWarning: Data with input dtype object was converted to float64 by StandardScaler.\n",
      "  warnings.warn(msg, _DataConversionWarning)\n"
     ]
    },
    {
     "name": "stdout",
     "output_type": "stream",
     "text": [
      "Training Image Data (891, 64, 64, 3) (891, 99)\n",
      "Validated Image Data (99, 64, 64, 3) (99, 99)\n"
     ]
    }
   ],
   "source": [
    "train_feature_data = pd.read_csv(\"train.csv\").as_matrix()\n",
    "test_feature_data = pd.read_csv(\"test.csv\").as_matrix()\n",
    "\n",
    "X_feature = np.empty((train_feature_data.shape[0], 64, 64, 3))\n",
    "\n",
    "for id in range(train_feature_data.shape[0]):\n",
    "    \n",
    "    feature_1 = train_feature_data[id, 2:66]\n",
    "    feature_2 = train_feature_data[id, 66:130]\n",
    "    feature_3 = train_feature_data[id, 130:194]\n",
    "    feature_feature_1 = np.dot(feature_1.reshape((64, 1)), feature_1.reshape((1, 64)))\n",
    "    feature_feature_2 = np.dot(feature_2.reshape((64, 1)), feature_2.reshape((1, 64)))\n",
    "    feature_feature_3 = np.dot(feature_3.reshape((64, 1)), feature_3.reshape((1, 64)))\n",
    "\n",
    "    X_feature[id, :, :, 0] = StandardScaler().fit(feature_feature_1).transform(feature_feature_1)\n",
    "    X_feature[id, :, :, 1] = StandardScaler().fit(feature_feature_2).transform(feature_feature_2)\n",
    "    X_feature[id, :, :, 2] = StandardScaler().fit(feature_feature_3).transform(feature_feature_3)\n",
    "\n",
    "train_feature_data = pd.read_csv(\"train.csv\")    \n",
    "train_labels = train_feature_data['species']\n",
    "le = preprocessing.LabelEncoder()\n",
    "train_labels = le.fit(train_labels).transform(train_labels) \n",
    "\n",
    "X_train, X_val, y_train, y_val = train_test_split(X_feature, train_labels, test_size=.1, random_state=42, stratify = train_labels)\n",
    "y_train = (np.arange(99) == y_train[:,None]).astype(np.float32)\n",
    "y_val = (np.arange(99) == y_val[:,None]).astype(np.float32)\n",
    "\n",
    "X_train = X_train.astype(np.float32)\n",
    "X_val = X_val.astype(np.float32)\n",
    "\n",
    "print(\"Training Image Data\", X_train.shape, y_train.shape)\n",
    "print(\"Validated Image Data\", X_val.shape, y_val.shape)"
   ]
  },
  {
   "cell_type": "code",
   "execution_count": 8,
   "metadata": {
    "collapsed": false
   },
   "outputs": [
    {
     "data": {
      "image/png": "[encoded data removed]",
      "text/plain": [
       "<PIL.Image.Image image mode=RGB size=64x64 at 0x7FF760123828>"
      ]
     },
     "metadata": {},
     "output_type": "display_data"
    },
    {
     "data": {
      "image/png": "[encoded data removed]",
      "text/plain": [
       "<PIL.Image.Image image mode=RGB size=64x64 at 0x7FF7601238D0>"
      ]
     },
     "metadata": {},
     "output_type": "display_data"
    },
    {
     "data": {
      "image/png": "[encoded data removed]",
      "text/plain": [
       "<PIL.Image.Image image mode=RGB size=64x64 at 0x7FF760123828>"
      ]
     },
     "metadata": {},
     "output_type": "display_data"
    },
    {
     "data": {
      "image/png": "[encoded data removed]",
      "text/plain": [
       "<PIL.Image.Image image mode=RGB size=64x64 at 0x7FF7601238D0>"
      ]
     },
     "metadata": {},
     "output_type": "display_data"
    },
    {
     "data": {
      "image/png": "[encoded data removed]",
      "text/plain": [
       "<PIL.Image.Image image mode=RGB size=64x64 at 0x7FF7601236D8>"
      ]
     },
     "metadata": {},
     "output_type": "display_data"
    },
    {
     "data": {
      "image/png": "[encoded data removed]",
      "text/plain": [
       "<PIL.Image.Image image mode=RGB size=64x64 at 0x7FF7601238D0>"
      ]
     },
     "metadata": {},
     "output_type": "display_data"
    },
    {
     "data": {
      "image/png": "[encoded data removed]",
      "text/plain": [
       "<PIL.Image.Image image mode=RGB size=64x64 at 0x7FF7601236D8>"
      ]
     },
     "metadata": {},
     "output_type": "display_data"
    },
    {
     "data": {
      "image/png": "[encoded data removed]",
      "text/plain": [
       "<PIL.Image.Image image mode=RGB size=64x64 at 0x7FF7601238D0>"
      ]
     },
     "metadata": {},
     "output_type": "display_data"
    },
    {
     "data": {
      "image/png": "[encoded data removed]",
      "text/plain": [
       "<PIL.Image.Image image mode=RGB size=64x64 at 0x7FF7601236D8>"
      ]
     },
     "metadata": {},
     "output_type": "display_data"
    },
    {
     "data": {
      "image/png": "[encoded data removed]",
      "text/plain": [
       "<PIL.Image.Image image mode=RGB size=64x64 at 0x7FF760123828>"
      ]
     },
     "metadata": {},
     "output_type": "display_data"
    }
   ],
   "source": [
    "for i in range(0, 10):\n",
    "    show_imp = array_to_img(X_train[i, ])\n",
    "    display(show_imp)"
   ]
  },
  {
   "cell_type": "code",
   "execution_count": 4,
   "metadata": {
    "collapsed": true
   },
   "outputs": [],
   "source": [
    "def accuracy(predictions, labels):\n",
    "    return (100.0 * np.sum(np.argmax(predictions, 1) == np.argmax(labels, 1))\n",
    "            / predictions.shape[0])\n",
    "\n",
    "def weight_variable(shape):\n",
    "    initial = tf.truncated_normal(shape, stddev=0.01)\n",
    "    return tf.Variable(initial)\n",
    "\n",
    "def bias_variable(shape):\n",
    "    initial = tf.constant(0.1, shape=shape)\n",
    "    return tf.Variable(initial)"
   ]
  },
  {
   "cell_type": "code",
   "execution_count": 9,
   "metadata": {
    "collapsed": false
   },
   "outputs": [],
   "source": [
    "image_size = 64\n",
    "num_labels = 99\n",
    "num_channels = 3 # grayscale\n",
    "batch_size = 32\n",
    "lamb_reg = 0.001\n",
    "\n",
    "graph = tf.Graph()\n",
    "\n",
    "with graph.as_default():\n",
    "\n",
    "    # Input data.\n",
    "    tf_train_dataset = tf.placeholder(tf.float32, shape=(batch_size, image_size, image_size, num_channels))\n",
    "    tf_train_labels = tf.placeholder(tf.float32, shape=(batch_size, num_labels))\n",
    "    tf_valid_dataset = tf.constant(X_val)\n",
    "   # tf_test_dataset = tf.constant(test_image_data)\n",
    "\n",
    "    # Variables.\n",
    "    layer1_weights = weight_variable([3, 3, 3, 64])\n",
    "    layer1_biases = bias_variable([64])\n",
    "    layer2_weights = weight_variable([3, 3, 64, 128])\n",
    "    layer2_biases = bias_variable([128])\n",
    "    layer3_weights = weight_variable([3, 3, 128, 256])\n",
    "    layer3_biases = bias_variable([256])\n",
    "    layer4_weights = weight_variable([8*8*256, 1024])\n",
    "    layer4_biases = bias_variable([1024])\n",
    "    layer5_weights = weight_variable([1024, 1024])\n",
    "    layer5_biases = bias_variable([1024])\n",
    "    layer6_weights = weight_variable([1024, num_labels])\n",
    "    layer6_biases = bias_variable([num_labels])\n",
    "\n",
    "    keep_prob = tf.placeholder(tf.float32)\n",
    "    # Model with dropout\n",
    "    def model(data, proba=keep_prob):\n",
    "        # Convolution\n",
    "        conv1 = tf.nn.conv2d(data, layer1_weights, [1, 1, 1, 1], padding='SAME') + layer1_biases\n",
    "        # Max pooling\n",
    "        pooled1 = tf.nn.max_pool(tf.nn.relu(conv1), ksize=[1, 3, 3, 1],\n",
    "                        strides=[1, 2, 2, 1], padding='SAME')\n",
    "        # Normalization\n",
    "        norm1 = tf.nn.lrn(pooled1, 4, bias=1.0, alpha=0.001 / 9.0, beta=0.75)\n",
    "        # Dropout\n",
    "        norm1 = tf.nn.dropout(norm1, proba)\n",
    "        \n",
    "        # Convolution\n",
    "        conv2 = tf.nn.conv2d(norm1, layer2_weights, [1, 1, 1, 1], padding='SAME') + layer2_biases\n",
    "        # Max pooling\n",
    "        pooled2 = tf.nn.max_pool(tf.nn.relu(conv2), ksize=[1, 3, 3, 1],\n",
    "                        strides=[1, 2, 2, 1], padding='SAME')\n",
    "        # Normalization\n",
    "        norm2 = tf.nn.lrn(pooled2, 4, bias=1.0, alpha=0.001 / 9.0, beta=0.75)\n",
    "        # Dropout\n",
    "        norm2 = tf.nn.dropout(norm2, proba)\n",
    "        \n",
    "        # Convolution\n",
    "        conv3 = tf.nn.conv2d(norm2, layer3_weights, [1, 1, 1, 1], padding='SAME') + layer3_biases\n",
    "        # Max pooling\n",
    "        pooled3 = tf.nn.max_pool(tf.nn.relu(conv3), ksize=[1, 3, 3, 1],\n",
    "                        strides=[1, 2, 2, 1], padding='SAME')\n",
    "        # Normalization\n",
    "        norm3 = tf.nn.lrn(pooled3, 4, bias=1.0, alpha=0.001 / 9.0, beta=0.75)\n",
    "        # Dropout\n",
    "        norm3 = tf.nn.dropout(norm3, proba)\n",
    "        \n",
    "        # Fully Connected Layer\n",
    "        shape = layer4_weights.get_shape().as_list()\n",
    "        reshape = tf.reshape(norm3, [-1, shape[0]])\n",
    "        full3 = tf.nn.relu(tf.matmul(reshape, layer4_weights) + layer4_biases)\n",
    "        full3 = tf.nn.relu(tf.matmul(full3, layer5_weights) + layer5_biases)\n",
    "\n",
    "        return tf.matmul(full3, layer6_weights) + layer6_biases\n",
    "  \n",
    "    # Training computation.\n",
    "    logits = model(tf_train_dataset, keep_prob)\n",
    "    loss = tf.reduce_mean(tf.nn.softmax_cross_entropy_with_logits(logits, tf_train_labels))\n",
    "    regularizers = (tf.nn.l2_loss(layer1_weights) + tf.nn.l2_loss(layer1_biases) + \\\n",
    "                    tf.nn.l2_loss(layer2_weights) + tf.nn.l2_loss(layer2_biases) + \\\n",
    "                    tf.nn.l2_loss(layer3_weights) + tf.nn.l2_loss(layer3_biases) + \\\n",
    "                    tf.nn.l2_loss(layer4_weights) + tf.nn.l2_loss(layer4_biases) + \\\n",
    "                    tf.nn.l2_loss(layer5_weights) + tf.nn.l2_loss(layer5_biases) + \\\n",
    "                    tf.nn.l2_loss(layer6_weights) + tf.nn.l2_loss(layer6_biases))\n",
    "\n",
    "    # Add the regularization term to the loss.\n",
    "    loss = tf.reduce_mean(loss + lamb_reg * regularizers)\n",
    "    # Optimizer.\n",
    "    optimizer = tf.train.AdamOptimizer(1e-4).minimize(loss)\n",
    "\n",
    "    # Predictions for the training, validation, and test data.\n",
    "    train_prediction = tf.nn.softmax(logits)\n",
    "    valid_prediction = tf.nn.softmax(model(tf_valid_dataset,1.0))\n",
    "    # test_prediction = tf.nn.softmax(model(tf_test_dataset,1.0))"
   ]
  },
  {
   "cell_type": "code",
   "execution_count": null,
   "metadata": {
    "collapsed": true
   },
   "outputs": [],
   "source": [
    "def run_session(num_epochs, name, k_prob=1.0):\n",
    "\n",
    "    with tf.Session(graph=graph) as session:\n",
    "        merged = tf.merge_all_summaries()  \n",
    "        writer = tf.train.SummaryWriter(\"/tmp/tensorflowlogs\", session.graph)\n",
    "        tf.initialize_all_variables().run()\n",
    "        print(\"Initialized\")\n",
    "        for epoch in range(num_epochs):\n",
    "            offset = (epoch * batch_size) % (y_train.shape[0] - batch_size)\n",
    "            batch_data = X_train[offset:(offset + batch_size), :]\n",
    "            batch_labels = y_train[offset:(offset + batch_size), :]\n",
    "            feed_dict = {tf_train_dataset : batch_data, tf_train_labels : batch_labels, keep_prob : k_prob}\n",
    "            _, l, predictions = session.run([optimizer, loss, train_prediction], feed_dict=feed_dict)\n",
    "            if (epoch % 500 == 0):\n",
    "                print(\"Minibatch loss at epoch {}: {}\".format(epoch, l))\n",
    "                print(\"Minibatch accuracy: {:.1f}\".format(accuracy(predictions, batch_labels)))\n",
    "                print(\"Validation accuracy: {:.1f}\".format(accuracy(valid_prediction.eval(), y_val)))\n",
    "        # test_preds = test_prediction.eval().ravel()\n",
    "        "
   ]
  },
  {
   "cell_type": "code",
   "execution_count": null,
   "metadata": {
    "collapsed": false
   },
   "outputs": [
    {
     "name": "stdout",
     "output_type": "stream",
     "text": [
      "WARNING:tensorflow:From <ipython-input-10-97051d03970f>:4 in run_session.: merge_all_summaries (from tensorflow.python.ops.logging_ops) is deprecated and will be removed after 2016-11-30.\n",
      "Instructions for updating:\n",
      "Please switch to tf.summary.merge_all.\n",
      "WARNING:tensorflow:From <ipython-input-10-97051d03970f>:5 in run_session.: SummaryWriter.__init__ (from tensorflow.python.training.summary_io) is deprecated and will be removed after 2016-11-30.\n",
      "Instructions for updating:\n",
      "Please switch to tf.summary.FileWriter. The interface and behavior is the same; this is just a rename.\n",
      "WARNING:tensorflow:From <ipython-input-10-97051d03970f>:6 in run_session.: initialize_all_variables (from tensorflow.python.ops.variables) is deprecated and will be removed after 2017-03-02.\n",
      "Instructions for updating:\n",
      "Use `tf.global_variables_initializer` instead.\n",
      "Initialized\n",
      "Minibatch loss at epoch 0: 5.307634353637695\n",
      "Minibatch accuracy: 3.1\n",
      "Validation accuracy: 1.0\n",
      "Minibatch loss at epoch 500: 1.4139553308486938\n",
      "Minibatch accuracy: 65.6\n",
      "Validation accuracy: 45.5\n",
      "Minibatch loss at epoch 1000: 0.4025072455406189\n",
      "Minibatch accuracy: 93.8\n",
      "Validation accuracy: 57.6\n",
      "Minibatch loss at epoch 1500: 0.17330504953861237\n",
      "Minibatch accuracy: 100.0\n",
      "Validation accuracy: 61.6\n"
     ]
    }
   ],
   "source": [
    "run_session(10001, \"AlexNet\", )"
   ]
  },
  {
   "cell_type": "code",
   "execution_count": null,
   "metadata": {
    "collapsed": true
   },
   "outputs": [],
   "source": []
  }
 ],
 "metadata": {
  "kernelspec": {
   "display_name": "Python 3",
   "language": "python",
   "name": "python3"
  },
  "language_info": {
   "codemirror_mode": {
    "name": "ipython",
    "version": 3
   },
   "file_extension": ".py",
   "mimetype": "text/x-python",
   "name": "python",
   "nbconvert_exporter": "python",
   "pygments_lexer": "ipython3",
   "version": "3.5.2"
  },
  "widgets": {
   "state": {},
   "version": "1.1.2"
  }
 },
 "nbformat": 4,
 "nbformat_minor": 2
}
