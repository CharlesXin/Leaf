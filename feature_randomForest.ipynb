{
 "cells": [
  {
   "cell_type": "code",
   "execution_count": 42,
   "metadata": {
    "collapsed": true
   },
   "outputs": [],
   "source": [
    "import pandas as pd\n",
    "import numpy as np\n"
   ]
  },
  {
   "cell_type": "code",
   "execution_count": 74,
   "metadata": {
    "collapsed": true
   },
   "outputs": [],
   "source": [
    "from sklearn.model_selection import train_test_split\n",
    "from sklearn.ensemble import RandomForestClassifier\n",
    "from sklearn.preprocessing import LabelEncoder\n",
    "from sklearn.metrics import log_loss"
   ]
  },
  {
   "cell_type": "code",
   "execution_count": 62,
   "metadata": {
    "collapsed": false
   },
   "outputs": [],
   "source": [
    "data = pd.read_csv('/Users/lawrence/Leaf/train.csv')\n",
    "y = data.loc[:,'species']\n",
    "X = data.iloc[:, 3:]\n",
    "le = LabelEncoder()\n",
    "y = le.fit(y).transform(y)"
   ]
  },
  {
   "cell_type": "code",
   "execution_count": 66,
   "metadata": {
    "collapsed": false
   },
   "outputs": [],
   "source": [
    "X_train, X_test, y_train, y_test = train_test_split(X, y, test_size = 0.33, random_state = 42, stratify = y)"
   ]
  },
  {
   "cell_type": "code",
   "execution_count": 67,
   "metadata": {
    "collapsed": true
   },
   "outputs": [],
   "source": [
    "y_test_matrix = (np.arange(99) == y_test[:,None]).astype(np.float32)"
   ]
  },
  {
   "cell_type": "code",
   "execution_count": 70,
   "metadata": {
    "collapsed": true
   },
   "outputs": [],
   "source": [
    "leaf_rf = RandomForestClassifier(n_estimators=1000)"
   ]
  },
  {
   "cell_type": "code",
   "execution_count": 71,
   "metadata": {
    "collapsed": false
   },
   "outputs": [
    {
     "data": {
      "text/plain": [
       "RandomForestClassifier(bootstrap=True, class_weight=None, criterion='gini',\n",
       "            max_depth=None, max_features='auto', max_leaf_nodes=None,\n",
       "            min_impurity_split=1e-07, min_samples_leaf=1,\n",
       "            min_samples_split=2, min_weight_fraction_leaf=0.0,\n",
       "            n_estimators=1000, n_jobs=1, oob_score=False,\n",
       "            random_state=None, verbose=0, warm_start=False)"
      ]
     },
     "execution_count": 71,
     "metadata": {},
     "output_type": "execute_result"
    }
   ],
   "source": [
    "leaf_rf.fit(X_train, y_train)"
   ]
  },
  {
   "cell_type": "code",
   "execution_count": 30,
   "metadata": {
    "collapsed": false
   },
   "outputs": [],
   "source": [
    "y_pred = leaf_rf.predict(X_test)"
   ]
  },
  {
   "cell_type": "code",
   "execution_count": 34,
   "metadata": {
    "collapsed": false
   },
   "outputs": [
    {
     "data": {
      "text/plain": [
       "0.96941896024464835"
      ]
     },
     "execution_count": 34,
     "metadata": {},
     "output_type": "execute_result"
    }
   ],
   "source": [
    "sum(y_pred == y_test) * 1.0 / len(y_test)"
   ]
  },
  {
   "cell_type": "code",
   "execution_count": 72,
   "metadata": {
    "collapsed": true
   },
   "outputs": [],
   "source": [
    "y_pred_prob = leaf_rf.predict_proba(X_test)"
   ]
  },
  {
   "cell_type": "code",
   "execution_count": 40,
   "metadata": {
    "collapsed": true
   },
   "outputs": [],
   "source": [
    "def accuracy(predictions, labels):\n",
    "    return (100.0 * np.sum(np.argmax(predictions, 1) == np.argmax(labels, 1))\n",
    "            / predictions.shape[0])"
   ]
  },
  {
   "cell_type": "code",
   "execution_count": 44,
   "metadata": {
    "collapsed": true
   },
   "outputs": [],
   "source": []
  },
  {
   "cell_type": "code",
   "execution_count": 73,
   "metadata": {
    "collapsed": false
   },
   "outputs": [
    {
     "data": {
      "text/plain": [
       "96.94189602446484"
      ]
     },
     "execution_count": 73,
     "metadata": {},
     "output_type": "execute_result"
    }
   ],
   "source": [
    "accuracy(y_pred_prob, y_test_matrix)"
   ]
  },
  {
   "cell_type": "code",
   "execution_count": 75,
   "metadata": {
    "collapsed": false
   },
   "outputs": [
    {
     "data": {
      "text/plain": [
       "0.87355992810222083"
      ]
     },
     "execution_count": 75,
     "metadata": {},
     "output_type": "execute_result"
    }
   ],
   "source": [
    "log_loss(y_test_matrix, y_pred_prob)"
   ]
  },
  {
   "cell_type": "code",
   "execution_count": 78,
   "metadata": {
    "collapsed": false
   },
   "outputs": [
    {
     "data": {
      "text/plain": [
       "array([54, 29, 16, 14, 65, 68, 47, 29, 74, 54, 20, 33, 12, 46, 44, 96, 38,\n",
       "       27, 75, 21,  1, 13, 83, 56, 11,  2, 92,  4, 70, 25, 76, 84, 51, 13,\n",
       "       21, 35, 21, 82, 47, 87, 32, 55, 43, 45, 10, 11, 92, 39, 20, 34, 88,\n",
       "       17, 23, 42, 82, 86,  5, 66, 87, 92, 81,  9, 95, 79, 32, 85, 44, 39,\n",
       "       10,  8, 30, 97, 17, 85, 30, 86, 21, 13, 15, 36, 26, 71, 42, 28, 17,\n",
       "        5, 48, 72, 89, 34, 26, 81, 49, 40,  3, 70, 52,  0, 78, 93, 65, 93,\n",
       "       76, 46, 33, 39, 80, 92, 72, 19, 43, 58, 51, 59, 57, 35, 46, 96, 49,\n",
       "       41, 22, 64, 94, 67, 37, 20, 19, 85, 32, 15, 74, 32, 56, 27, 54, 31,\n",
       "       73, 90, 88,  0, 29, 69, 26, 16, 24, 55, 37, 23, 66, 12, 96, 74, 41,\n",
       "       31, 79, 93,  2, 73, 29, 33, 91, 53, 71, 77, 98, 63, 42, 60, 27, 73,\n",
       "       36, 19, 64,  2, 80, 70, 83, 47, 61, 88, 45, 80, 37, 60, 62, 95, 52,\n",
       "       84, 98, 15, 60, 61, 78,  2, 16, 28, 44, 77, 85, 22, 75, 64,  5, 83,\n",
       "        7,  7, 20, 86, 58, 50, 75, 51, 38, 90,  0, 40, 60, 57, 98,  1, 72,\n",
       "       57, 31, 63, 14,  6, 67, 97, 56, 38, 24, 59,  8, 61, 82, 25, 90, 81,\n",
       "       40,  9, 35, 23, 48, 77, 36,  4, 91, 86, 43, 30, 63,  1, 79, 78, 53,\n",
       "       69,  7, 18, 24, 41, 10,  8, 93, 69, 76, 50, 62, 53, 83, 63, 37,  6,\n",
       "       59, 90, 87, 58, 66, 74, 59, 84, 11, 67, 18, 89, 87, 22, 50, 94, 68,\n",
       "        4, 71, 34, 94, 14,  3, 68, 89,  3, 23, 62, 78, 25, 12, 48, 49,  6,\n",
       "        9, 75, 95, 71, 41,  1, 57, 48, 58, 52, 55, 14, 82, 52, 91, 97, 18,\n",
       "       28, 51, 45, 65])"
      ]
     },
     "execution_count": 78,
     "metadata": {},
     "output_type": "execute_result"
    }
   ],
   "source": [
    "np.argmax(y_test_matrix, 1)"
   ]
  },
  {
   "cell_type": "code",
   "execution_count": 80,
   "metadata": {
    "collapsed": false
   },
   "outputs": [
    {
     "data": {
      "text/plain": [
       "array([54, 29, 16, 14, 65, 68, 47, 28, 74, 54, 20, 33, 12, 46, 44, 96, 38,\n",
       "       27, 56, 21,  1, 13, 83, 56, 11,  2, 92,  4, 70, 25, 76, 84, 51, 13,\n",
       "       31, 35, 21, 82, 47, 87, 32, 55, 43, 45, 10, 11, 92, 39, 20, 34, 88,\n",
       "       17, 23, 42, 82, 86,  5, 66, 87, 92, 81,  9, 95, 79, 32, 85, 44, 39,\n",
       "       10,  8, 30, 97, 17, 85, 30, 86, 21, 13, 15, 36, 41, 71, 42, 28, 17,\n",
       "        5, 48, 72, 89, 34, 26, 81, 49, 40,  3, 70, 52,  0, 78, 93, 65, 93,\n",
       "       76, 46, 33, 39, 80, 92, 72, 19, 43, 58, 51, 59, 57, 35, 46, 96, 49,\n",
       "       41, 22, 46, 94, 67, 37, 20, 19, 85, 32, 15, 74, 32, 56, 27, 54, 31,\n",
       "       73, 90, 88,  0, 29, 69, 26, 16, 24, 55, 37, 23, 66, 12, 96, 74, 41,\n",
       "       31, 79, 93,  2, 73, 29, 33, 91, 53, 71, 77, 98, 63, 42, 60, 77, 92,\n",
       "       36, 19, 93,  2, 80, 70, 83, 47, 61, 88, 45, 80, 37, 60, 62, 95, 52,\n",
       "       84, 98, 15, 60, 61, 78,  2, 16, 28, 44, 77, 85, 22, 75, 64,  5, 83,\n",
       "        7,  7, 20, 86, 58, 50, 75, 51, 38, 90,  0, 40, 60, 57, 98,  1, 72,\n",
       "       57, 31, 63, 14,  6, 67, 97, 56, 38, 24, 59,  8, 61, 82, 25, 90, 81,\n",
       "       39,  9, 35, 23, 48, 77, 36,  4, 91, 86, 43, 30, 63,  1, 79, 78, 53,\n",
       "       69,  7, 18, 24, 41, 10,  8, 93, 69, 76, 50, 62, 53, 83, 63, 37,  6,\n",
       "       59, 90, 87, 58, 66, 74, 59, 84, 11, 67, 18, 89, 87, 22, 50, 94, 68,\n",
       "        4, 71, 34, 94, 14,  3, 68, 89,  3, 23, 62, 78, 25, 12, 48, 49,  6,\n",
       "        9, 75, 95, 71, 41,  1, 57, 48, 58, 52, 55, 14, 82, 52, 91, 97, 18,\n",
       "       29, 51, 45, 65])"
      ]
     },
     "execution_count": 80,
     "metadata": {},
     "output_type": "execute_result"
    }
   ],
   "source": [
    "np.argmax(y_pred_prob, 1)"
   ]
  },
  {
   "cell_type": "code",
   "execution_count": null,
   "metadata": {
    "collapsed": true
   },
   "outputs": [],
   "source": []
  }
 ],
 "metadata": {
  "kernelspec": {
   "display_name": "Python 2",
   "language": "python",
   "name": "python2"
  },
  "language_info": {
   "codemirror_mode": {
    "name": "ipython",
    "version": 2
   },
   "file_extension": ".py",
   "mimetype": "text/x-python",
   "name": "python",
   "nbconvert_exporter": "python",
   "pygments_lexer": "ipython2",
   "version": "2.7.9"
  }
 },
 "nbformat": 4,
 "nbformat_minor": 0
}
